{
 "cells": [
  {
   "cell_type": "code",
   "execution_count": 243,
   "metadata": {},
   "outputs": [],
   "source": [
    "import csv\n",
    "import numpy as np"
   ]
  },
  {
   "cell_type": "code",
   "execution_count": 244,
   "metadata": {},
   "outputs": [],
   "source": [
    "def read_csv(filename, delimeter = \",\", skip_header = 0):\n",
    "    csv_handler = csv.reader(open(filename, newline='\\n'), delimiter=delimeter)\n",
    "    csv_handler = zip(*list(csv_handler)[skip_header:])\n",
    "    content = list()\n",
    "\n",
    "    for n, line in enumerate(csv_handler):\n",
    "        content.append(list())\n",
    "        for item in line:\n",
    "            content[-1].append(item)\n",
    "\n",
    "    return np.transpose(np.array(content))\n"
   ]
  },
  {
   "cell_type": "code",
   "execution_count": 245,
   "metadata": {},
   "outputs": [],
   "source": [
    "stkSum = read_csv('StkSum.csv')\n",
    "item_list = stkSum[:, 0]"
   ]
  },
  {
   "cell_type": "code",
   "execution_count": 246,
   "metadata": {},
   "outputs": [],
   "source": [
    "bom = read_csv('NVM.csv', skip_header = 8)\n",
    "npStrDtype = '<U42'"
   ]
  },
  {
   "cell_type": "code",
   "execution_count": 247,
   "metadata": {},
   "outputs": [],
   "source": [
    "newStkSum = np.ndarray(shape = (len(stkSum), 2), dtype = npStrDtype)\n",
    "newStkSum[:, 0] = item_list"
   ]
  },
  {
   "cell_type": "code",
   "execution_count": 248,
   "metadata": {},
   "outputs": [],
   "source": [
    "for idx, item in enumerate(bom[:-7, 0]):\n",
    "    if item:\n",
    "        srch_idx = np.where(item_list == item)[0][0]\n",
    "        newStkSum[srch_idx, 1] = bom[idx + 1, 1]"
   ]
  },
  {
   "cell_type": "code",
   "execution_count": 249,
   "metadata": {},
   "outputs": [],
   "source": [
    "np.savetxt(\"newStkSum.csv\", newStkSum, delimiter=\"!\", fmt = '%s')"
   ]
  },
  {
   "cell_type": "code",
   "execution_count": null,
   "metadata": {},
   "outputs": [],
   "source": []
  },
  {
   "cell_type": "code",
   "execution_count": null,
   "metadata": {},
   "outputs": [],
   "source": []
  }
 ],
 "metadata": {
  "kernelspec": {
   "display_name": "Python 3",
   "language": "python",
   "name": "python3"
  },
  "language_info": {
   "codemirror_mode": {
    "name": "ipython",
    "version": 3
   },
   "file_extension": ".py",
   "mimetype": "text/x-python",
   "name": "python",
   "nbconvert_exporter": "python",
   "pygments_lexer": "ipython3",
   "version": "3.6.8"
  }
 },
 "nbformat": 4,
 "nbformat_minor": 2
}
